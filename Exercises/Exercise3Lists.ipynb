{
 "cells": [
  {
   "cell_type": "markdown",
   "metadata": {},
   "source": [
    "# Exercise 3\n",
    "\n",
    "Related Notes:\n",
    "- Fundamentals_2_Programming_Constructs\n",
    "- Fundamentals_3_Data_Structures"
   ]
  },
  {
   "cell_type": "markdown",
   "metadata": {},
   "source": [
    "## Exercise 3.1 Dude, What's my Index?\n",
    "\n",
    "Consider the following list\n",
    "\n",
    "`[3, 1, 4, 1, 5, 9, 2, 6, 5, 3, 5, 8, 9, 7, 9, 3, 2, 3, 8, 4, 6, 2, 6, 4, 3, 3, 8, 3, 2, 7, 9, 5, 0, 2, 8, 8]`\n",
    "\n",
    "Write a program that print out:\n",
    "- the indices of occurence of each digit (0-9) in the list, and \n",
    "- its number of occurences in the list \n",
    "in the following format.\n",
    "> `<DIGIT> <LIST_OF_INDICES> <NO_OF_OCCURENCES>`<br>\n",
    "\n",
    "Example Output: \n",
    "\n",
    "> Digit 0 : \\[32\\] : 1 \n",
    "\n",
    "Try your program again with the following list.\n",
    "\n",
    "`[3, 1, 4, 1, 5, 9, 2, 6, 5, 3, 5, 8, 9, 7, 9, 3, 2, 3, 8, 4, 6, 2, 6, 4, 3, 3, 8, 3, 2, 7, 9, 5, 2, 8, 8]`"
   ]
  },
  {
   "cell_type": "code",
   "execution_count": 2,
   "metadata": {},
   "outputs": [
    {
     "name": "stdout",
     "output_type": "stream",
     "text": [
      "Digit 0, [], 0\n",
      "Digit 1, [1, 3], 2\n",
      "Digit 2, [6, 16, 21, 28, 32], 5\n",
      "Digit 3, [0, 9, 15, 17, 24, 25, 27], 7\n",
      "Digit 4, [2, 19, 23], 3\n",
      "Digit 5, [4, 8, 10, 31], 4\n",
      "Digit 6, [7, 20, 22], 3\n",
      "Digit 7, [13, 29], 2\n",
      "Digit 8, [11, 18, 26, 33, 34], 5\n",
      "Digit 9, [5, 12, 14, 30], 4\n"
     ]
    }
   ],
   "source": [
    "original= [3, 1, 4, 1, 5, 9, 2, 6, 5, 3, 5, 8, 9, 7, 9, 3, 2, 3, 8, 4, 6, 2, 6, 4, 3, 3, 8, 3, 2, 7, 9, 5, 2, 8, 8]\n",
    "\n",
    "for i in range(10):\n",
    "    indices_list= []\n",
    "    counter=0\n",
    "    for x in original:\n",
    "        if i == x:\n",
    "            indices_list.append(counter)\n",
    "        counter += 1\n",
    "    print(\"Digit {}, {}, {}\".format(i, indices_list, original.count(i)))\n",
    "        \n",
    "        \n",
    "    "
   ]
  },
  {
   "cell_type": "markdown",
   "metadata": {},
   "source": [
    "## Exercise 3.2 Some Heights Statistics\n",
    "\n",
    "Write a program that:\n",
    "- ask user to input the heights value (in centimeter) of $n$ students. The entered values are integer.\n",
    "- store the input values in list and print the list out\n",
    "- display the lowest, highest and mean of the height of these $n$ students. In case you have forgotten, mean is the arithmetic average.  \n",
    "\n",
    "Example Output: \n",
    "\n",
    ">Number of heights to be entered: 4<br>\n",
    ">100<br>\n",
    ">120<br>\n",
    ">110<br>\n",
    ">130<br>\n",
    ">The list of heights: \\[100,120,110,130\\]<br>\n",
    ">Minimum height is 100 cm, maximum height is 130 cm and the average height is 115.0 cm."
   ]
  },
  {
   "cell_type": "code",
   "execution_count": 5,
   "metadata": {},
   "outputs": [
    {
     "name": "stdout",
     "output_type": "stream",
     "text": [
      "Enter a height (in cm)100\n",
      "Enter a height (in cm)120\n",
      "Enter a height (in cm)110\n",
      "Enter a height (in cm)130\n",
      "Minimum height is 100cm, Maximum Height is 130cm and the average height is 115.0cm\n"
     ]
    }
   ],
   "source": [
    "a= int(input(\"Enter a height (in cm)\"))\n",
    "b= int(input(\"Enter a height (in cm)\"))\n",
    "c= int(input(\"Enter a height (in cm)\"))\n",
    "d= int(input(\"Enter a height (in cm)\"))\n",
    "lst= [a,b,c,d]\n",
    "maximum= max(lst)\n",
    "minimum= min(lst)\n",
    "average= float((a+b+c+d)/4)\n",
    "print(\"Minimum height is {}cm, Maximum Height is {}cm and the average height is {}cm\".format(minimum, maximum, average))"
   ]
  },
  {
   "cell_type": "markdown",
   "metadata": {},
   "source": [
    "## Exercise 3.3 Binning\n",
    "\n",
    "In a school the grades obtained by a student in a certain subject depends on their mark, ranging from 0 to 100, obtained for the subject and it follows the following table.\n",
    "\n",
    "<center>\n",
    "\n",
    "| Marks ($m$)| Grade |\n",
    "|-------|-------|\n",
    "|   $m<40$    |    U     |\n",
    "|   $40\\leq m\\leq 44$     |    S     |\n",
    "|   $45\\leq m\\leq 49$    |    E     |\n",
    "|   $50\\leq m\\leq 54$    |    D     |\n",
    "|   $55\\leq m\\leq 59$    |    C     |\n",
    "|   $60\\leq m\\leq 69$    | B     |\n",
    "|   $m\\geq 70$    |    A     |\n",
    "\n",
    "</center>\n",
    "\n",
    "Following are the list of marks obtained by students from 2 different classes. `mark_1` is a list from one class and `mark_2` is a list from the other class.\n",
    "\n",
    "```\n",
    "mark_1 = [46, 41, 74, 53, 31, 39, 49, 57, 76, 80, 78, 38, 31, 56, 98, 55, 41, 73, 23, 88, 55, 60, 33, 40]\n",
    "\n",
    "mark_2= [69, 48, 50, 95, 87, 11, 28, 36, 25, 70, 25, 54, 33, 42, 27, 24, 44, 20, 61, 43, 30, 44, 7, 21]\n",
    "```\n",
    "\n",
    "Write a program that:\n",
    "- print outs the list of the students in each grade group in an *desscending order* in the following format\n",
    ">`<GRADE> <LIST OF DESCENDING VALUES> <NO OF STUDENTS IN THE LIST>`<br>\n",
    "    - if there are no students receiving such grade, print the empty list `[]`.\n",
    "\n",
    "Example Output: \n",
    ">#Assume the marks are stored in the list \\[39,45,66,68,75\\]<br>\n",
    ">U: \\[39\\] 1 <br>\n",
    ">S: \\[45\\] 1 <br>\n",
    ">E: \\[\\] 0 <br>\n",
    ">D: \\[\\] 0 <br>\n",
    ">C: \\[\\] 0 <br>\n",
    ">B: \\[68,66\\] 2 <br>\n",
    ">A: \\[75\\] 1 <br>"
   ]
  },
  {
   "cell_type": "code",
   "execution_count": 8,
   "metadata": {},
   "outputs": [
    {
     "name": "stdout",
     "output_type": "stream",
     "text": [
      "U:[31, 39, 38, 31, 23, 33] 6\n",
      "S:[41, 41, 40] 3\n",
      "E:[46, 49] 2\n",
      "D:[53] 1\n",
      "C:[57, 56, 55, 55] 4\n",
      "B:[60] 1\n",
      "A:[74, 76, 80, 78, 98, 73, 88] 7\n"
     ]
    }
   ],
   "source": [
    "mark_1 = [46, 41, 74, 53, 31, 39, 49, 57, 76, 80, 78, 38, 31, 56, 98, 55, 41, 73, 23, 88, 55, 60, 33, 40]\n",
    "mark_2= [69, 48, 50, 95, 87, 11, 28, 36, 25, 70, 25, 54, 33, 42, 27, 24, 44, 20, 61, 43, 30, 44, 7, 21]\n",
    "lst_U=[]\n",
    "lst_S=[]\n",
    "lst_E=[]\n",
    "lst_D=[]\n",
    "lst_C=[]\n",
    "lst_B=[]\n",
    "lst_A=[]\n",
    "for i in mark_1:\n",
    "    if i >= 70:\n",
    "        lst_A.append(i)\n",
    "    elif i >= 60:\n",
    "        lst_B.append(i)\n",
    "    elif i >= 55:\n",
    "        lst_C.append(i)\n",
    "    elif i >= 50:\n",
    "        lst_D.append(i)\n",
    "    elif i >= 45:\n",
    "        lst_E.append(i)\n",
    "    elif i >= 40:\n",
    "        lst_S.append(i)\n",
    "    else: \n",
    "        lst_U.append(i)\n",
    "print(\"U:{} {}\".format(lst_U,len(lst_U)))\n",
    "print(\"S:{} {}\".format(lst_S,len(lst_S)))\n",
    "print(\"E:{} {}\".format(lst_E,len(lst_E)))\n",
    "print(\"D:{} {}\".format(lst_D,len(lst_D)))\n",
    "print(\"C:{} {}\".format(lst_C,len(lst_C)))\n",
    "print(\"B:{} {}\".format(lst_B,len(lst_B)))\n",
    "print(\"A:{} {}\".format(lst_A,len(lst_A)))"
   ]
  },
  {
   "cell_type": "markdown",
   "metadata": {},
   "source": [
    "## Exercise 3.4 A Funny Interest\n",
    "\n",
    "Mr. $B$ was offered an investment opportunity with a company where if he was to invest \\$1000, he was guaranteed a 100% yearly interest rate, i.e. Mr. $B$ will be receive \\$2000 after 1 year, inclusive of his capital.  \n",
    "\n",
    "A friend of his that work in the company offers him another deal: same capital \\$1000, same yearly interest rate of 100% but applied quarterly for a year, meaning every 3 months, the applied interest rate to the current amount is $\\frac{100}{4}\\%=25\\%$. So, after 3rd month, his investment becomes \\$1250. After 6th month, it's \\$1562.50. After 9th month, it's \\$1953.13. \n",
    "Under this scheme, how much would Mr. $B$'s investment worth after a full year?\n",
    "\n",
    "Suppose that instead of applying the interest rate of 100% quarterly, a human error caused the interest rate to be applied hourly instead, for a full year. How much value will Mr. $B$'s investment worth then?"
   ]
  },
  {
   "cell_type": "markdown",
   "metadata": {},
   "source": []
  },
  {
   "cell_type": "markdown",
   "metadata": {},
   "source": [
    "## Exercise 3.5 Doubling My Money\n",
    "\n",
    "A customer is considering to deposit her money into a savings account with one of the locally available banks. As of 5th March 2021, the interest rates offered are given in the following table:\n",
    "\n",
    "<center>\n",
    "\n",
    "|         Savings Account        | Yearly Interest rate (%) |\n",
    "|:------------------------------:|:-----------------:|\n",
    "| BOC SmartSaver                 |         1         |\n",
    "| DBS Multiplier Account         |        0.4        |\n",
    "| UOB One Account                |        0.5        |\n",
    "| Standard Chartered Bonus$saver |        0.38       |\n",
    "| OCBC 360 Account               |        0.55       |\n",
    "\n",
    "</center>\n",
    "\n",
    "Write a program that:\n",
    "- Prints out a list that contains the number of years that is required for the money in savings account to double for each type of savings account.\n",
    "\n",
    "Example output: \n",
    "\n",
    ">With 1% yearly interest rate with BOC SmartSaver, it will take ___ years for the money to double.<br>\n",
    "\n",
    "For each of the savings account, compare the number of years obtained in the earlier part with the number $\\frac{72}{100r}$, where $r$ is the yearly interest rate. What do you observe? Can you explain your observation?"
   ]
  },
  {
   "cell_type": "markdown",
   "metadata": {},
   "source": [
    "## Exercise 3.6 Arihtmetic Sequence Revisited\n",
    "\n",
    "Recall from Exercise 1.2, an **arithmetic sequence** is a sequence of real numbers \n",
    "$$u_1,u_2,\\cdots, u_n$$\n",
    "such that the difference between two consecutive terms is constant, i.e. $u_{n+1}-u_n=d$ for some constant $d\\in \\mathbb{R}$ and $d\\neq 0$, called the **common difference** and $n\\geq 1$.\n",
    "\n",
    "The problem: \n",
    "- Request a numeric input from the user to be used as the first term.  Let us denote this input as `first_term`.\n",
    "- Request a numeric input from the user to be used as the common difference.  Let us denote this input as `common_difference`.\n",
    "- Request an integer input greater or equal to $4$ from the user for the number of terms.  Let us denote this input as `number_of_terms`. \n",
    "- Print out the list that contains the arithmetic sequence up to the $n$th term.\n",
    "- Print the list that contains the first 3 terms of the arithmetic sequence. \n",
    "- Print the list that contains the last 4 terms of the arithmetic sequence. \n",
    "- Use `.list` method to calculate the sum of the first $n$ terms of the arithmetic sequence.\n",
    "\n",
    "Example interaction: \n",
    "\n",
    ">Please input the first term in the arithmetic sequence:<br>\n",
    ">2<br>\n",
    ">Please input the common difference:<br>\n",
    ">3<br>\n",
    ">Please input the number of terms:<br>\n",
    ">5<br>\n",
    ">The list containing the first 5 terms of the arithmetic sequence are:<br>\n",
    ">\\[2,5,8,11,14\\]<br>\n",
    ">The list of the first 3 terms of the sequence is:<br>\n",
    ">\\[2,5,8\\]<br>\n",
    ">The list of the last 4 terms of the sequence is:<br>\n",
    ">\\[5,8,11,14\\]<br>\n",
    ">The sum of all the terms in the sequence is:<br>\n",
    ">38<br>"
   ]
  }
 ],
 "metadata": {
  "kernelspec": {
   "display_name": "Python 3",
   "language": "python",
   "name": "python3"
  },
  "language_info": {
   "codemirror_mode": {
    "name": "ipython",
    "version": 3
   },
   "file_extension": ".py",
   "mimetype": "text/x-python",
   "name": "python",
   "nbconvert_exporter": "python",
   "pygments_lexer": "ipython3",
   "version": "3.8.5"
  }
 },
 "nbformat": 4,
 "nbformat_minor": 2
}
